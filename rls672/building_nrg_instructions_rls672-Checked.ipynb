{
 "cells": [
  {
   "cell_type": "markdown",
   "metadata": {
    "run_control": {
     "frozen": false,
     "read_only": false
    }
   },
   "source": [
    "# fbb skeleton notebook for PUI2017 HW6"
   ]
  },
  {
   "cell_type": "code",
   "execution_count": 1,
   "metadata": {
    "run_control": {
     "frozen": false,
     "read_only": false
    }
   },
   "outputs": [
    {
     "name": "stderr",
     "output_type": "stream",
     "text": [
      "/opt/rh/anaconda/root/envs/PUI2016_Python2/lib/python2.7/site-packages/IPython/html.py:14: ShimWarning: The `IPython.html` package has been deprecated. You should import from `notebook` instead. `IPython.html.widgets` has moved to `ipywidgets`.\n",
      "  \"`IPython.html.widgets` has moved to `ipywidgets`.\", ShimWarning)\n"
     ]
    },
    {
     "name": "stdout",
     "output_type": "stream",
     "text": [
      "Populating the interactive namespace from numpy and matplotlib\n"
     ]
    }
   ],
   "source": [
    "from __future__ import print_function, division\n",
    "#import geopandas as gp  ##Couldn't manage to use geopandas\n",
    "import pandas as pd\n",
    "import pylab as pl\n",
    "import os\n",
    "import json\n",
    "import seaborn\n",
    "import statsmodels.formula.api as smf\n",
    "import statsmodels.api as sm\n",
    "if os.getenv(\"PUIDATA\") is None:\n",
    "    print (\"$PUIDATA to point to set PUIdata dir\")\n",
    "%pylab inline"
   ]
  },
  {
   "cell_type": "code",
   "execution_count": 2,
   "metadata": {},
   "outputs": [
    {
     "data": {
      "text/plain": [
       "'/home/cusp/vmr286/PUIdata'"
      ]
     },
     "execution_count": 2,
     "metadata": {},
     "output_type": "execute_result"
    }
   ],
   "source": [
    "PUIdata = os.getenv('PUIDATA')\n",
    "PUIdata"
   ]
  },
  {
   "cell_type": "markdown",
   "metadata": {},
   "source": [
    "**Data accessiable here:**\n",
    "* https://data.cityofnewyork.us/Environment/Energy-and-Water-Data-Disclosure-for-Local-Law-84-/rgfe-8y2z\n",
    "* https://www1.nyc.gov/site/planning/data-maps/open-data/dwn-pluto-mappluto.page "
   ]
  },
  {
   "cell_type": "code",
   "execution_count": 3,
   "metadata": {},
   "outputs": [
    {
     "name": "stderr",
     "output_type": "stream",
     "text": [
      "/opt/rh/anaconda/root/envs/PUI2016_Python2/lib/python2.7/site-packages/IPython/core/interactiveshell.py:2717: DtypeWarning: Columns (19,22,23,25,63,79) have mixed types. Specify dtype option on import or set low_memory=False.\n",
      "  interactivity=interactivity, compiler=compiler, result=result)\n"
     ]
    }
   ],
   "source": [
    "nrg = pd.read_csv(\"https://raw.githubusercontent.com/scheids1/PUI2017_rls672/master/HW6_rls672/Energy_and_Water_Data_Disclosure_for_Local_Law_84__2013_.csv\")\n",
    "bsize = pd.read_csv(\"https://raw.githubusercontent.com/scheids1/PUI2017_rls672/master/HW6_rls672/MN.csv\")"
   ]
  },
  {
   "cell_type": "code",
   "execution_count": 4,
   "metadata": {},
   "outputs": [],
   "source": [
    "#Alternative way to get data\n",
    "#nrg = pd.read_csv(os.getenv(\"PUIDATA\") + \"/Energy_and_Water_Data_Disclosure_for_Local_Law_84__2013_.csv\")\n",
    "#bsize = pd.read_csv(os.getenv(\"PUIDATA\") + \"/Manhattan/MN.csv\")"
   ]
  },
  {
   "cell_type": "code",
   "execution_count": 5,
   "metadata": {
    "run_control": {
     "frozen": false,
     "read_only": false
    }
   },
   "outputs": [
    {
     "data": {
      "text/plain": [
       "Index([u'Record Number', u'BBL', u'Co-reported BBL Status',\n",
       "       u'BBLs Co-reported',\n",
       "       u'Reported NYC Building Identificaiton Numbers (BINs)',\n",
       "       u'Street Number', u'Street Name', u'Borough', u'Postcode',\n",
       "       u'DOF Benchmarking Submission Status', u'Site EUI(kBtu/ft2)',\n",
       "       u'Weather Normalized Site EUI(kBtu/ft2)', u'Source EUI(kBtu/ft2)',\n",
       "       u'Weather Normalized Source EUI(kBtu/ft2)',\n",
       "       u'Municipally Supplied Potable Water - Indoor Intensity (gal/ft²)',\n",
       "       u'Automatic Water Benchmarking Eligible', u'Reported Water Method',\n",
       "       u'ENERGY STAR Score', u'Total GHG Emissions(MtCO2e)',\n",
       "       u'Direct GHG Emissions(MtCO2e)', u'Indirect GHG Emissions(MtCO2e)',\n",
       "       u'Reported Property Floor Area (Building(s)) (ft²)',\n",
       "       u'DOF Property Floor Area (Buildngs and Parking)(ft2)',\n",
       "       u'Primary Property Type - Self Selected', u'DOF Number of Buildings',\n",
       "       u'Latitude', u'Longitude', u'Community Board', u'Council District',\n",
       "       u'Census Tract', u'BIN', u'NTA'],\n",
       "      dtype='object')"
      ]
     },
     "execution_count": 5,
     "metadata": {},
     "output_type": "execute_result"
    }
   ],
   "source": [
    "nrg.columns"
   ]
  },
  {
   "cell_type": "code",
   "execution_count": 6,
   "metadata": {},
   "outputs": [
    {
     "data": {
      "text/html": [
       "<div>\n",
       "<table border=\"1\" class=\"dataframe\">\n",
       "  <thead>\n",
       "    <tr style=\"text-align: right;\">\n",
       "      <th></th>\n",
       "      <th>BBL</th>\n",
       "      <th>Postcode</th>\n",
       "      <th>Reported Property Floor Area (Building(s)) (ft²)</th>\n",
       "      <th>Borough</th>\n",
       "      <th>DOF Number of Buildings</th>\n",
       "      <th>Site EUI(kBtu/ft2)</th>\n",
       "    </tr>\n",
       "  </thead>\n",
       "  <tbody>\n",
       "    <tr>\n",
       "      <th>0</th>\n",
       "      <td>1.000410e+09</td>\n",
       "      <td>NaN</td>\n",
       "      <td>918919</td>\n",
       "      <td>Manhattan</td>\n",
       "      <td>NaN</td>\n",
       "      <td>NaN</td>\n",
       "    </tr>\n",
       "    <tr>\n",
       "      <th>1</th>\n",
       "      <td>4.021460e+09</td>\n",
       "      <td>11375.0</td>\n",
       "      <td>NaN</td>\n",
       "      <td>Queens</td>\n",
       "      <td>1.0</td>\n",
       "      <td>NaN</td>\n",
       "    </tr>\n",
       "    <tr>\n",
       "      <th>2</th>\n",
       "      <td>2.027620e+09</td>\n",
       "      <td>NaN</td>\n",
       "      <td>64200</td>\n",
       "      <td>Bronx</td>\n",
       "      <td>NaN</td>\n",
       "      <td>NaN</td>\n",
       "    </tr>\n",
       "    <tr>\n",
       "      <th>3</th>\n",
       "      <td>1.006700e+09</td>\n",
       "      <td>10001.0</td>\n",
       "      <td>NaN</td>\n",
       "      <td>Manhattan</td>\n",
       "      <td>1.0</td>\n",
       "      <td>NaN</td>\n",
       "    </tr>\n",
       "    <tr>\n",
       "      <th>4</th>\n",
       "      <td>2.048300e+09</td>\n",
       "      <td>NaN</td>\n",
       "      <td>50000</td>\n",
       "      <td>Bronx</td>\n",
       "      <td>NaN</td>\n",
       "      <td>NaN</td>\n",
       "    </tr>\n",
       "  </tbody>\n",
       "</table>\n",
       "</div>"
      ],
      "text/plain": [
       "            BBL  Postcode Reported Property Floor Area (Building(s)) (ft²)  \\\n",
       "0  1.000410e+09       NaN                                           918919   \n",
       "1  4.021460e+09   11375.0                                              NaN   \n",
       "2  2.027620e+09       NaN                                            64200   \n",
       "3  1.006700e+09   10001.0                                              NaN   \n",
       "4  2.048300e+09       NaN                                            50000   \n",
       "\n",
       "     Borough  DOF Number of Buildings Site EUI(kBtu/ft2)  \n",
       "0  Manhattan                      NaN                NaN  \n",
       "1     Queens                      1.0                NaN  \n",
       "2      Bronx                      NaN                NaN  \n",
       "3  Manhattan                      1.0                NaN  \n",
       "4      Bronx                      NaN                NaN  "
      ]
     },
     "execution_count": 6,
     "metadata": {},
     "output_type": "execute_result"
    }
   ],
   "source": [
    "nrg = nrg[['BBL', 'Postcode', 'Reported Property Floor Area (Building(s)) (ft²)', 'Borough', \n",
    "           'DOF Number of Buildings', 'Site EUI(kBtu/ft2)']]\n",
    "nrg.head()"
   ]
  },
  {
   "cell_type": "code",
   "execution_count": 7,
   "metadata": {},
   "outputs": [
    {
     "data": {
      "text/plain": [
       "Index([u'BBL', u'Postcode',\n",
       "       u'Reported Property Floor Area (Building(s)) (ft²)', u'Borough',\n",
       "       u'DOF Number of Buildings', u'Site EUI(kBtu/ft2)'],\n",
       "      dtype='object')"
      ]
     },
     "execution_count": 7,
     "metadata": {},
     "output_type": "execute_result"
    }
   ],
   "source": [
    "nrg.columns"
   ]
  },
  {
   "cell_type": "code",
   "execution_count": 8,
   "metadata": {},
   "outputs": [],
   "source": [
    "nrg.columns = ['BBL', 'ZipCode', 'Reported Property Floor Area (Building(s)) (ft²)', 'Borough', \n",
    "               'DOF Number of Buildings', 'SiteEUI']"
   ]
  },
  {
   "cell_type": "code",
   "execution_count": 9,
   "metadata": {},
   "outputs": [],
   "source": [
    "nrg = nrg[nrg['Borough'] == 'Manhattan']"
   ]
  },
  {
   "cell_type": "code",
   "execution_count": 10,
   "metadata": {},
   "outputs": [
    {
     "data": {
      "text/html": [
       "<div>\n",
       "<table border=\"1\" class=\"dataframe\">\n",
       "  <thead>\n",
       "    <tr style=\"text-align: right;\">\n",
       "      <th></th>\n",
       "      <th>BBL</th>\n",
       "      <th>ZipCode</th>\n",
       "      <th>Reported Property Floor Area (Building(s)) (ft²)</th>\n",
       "      <th>Borough</th>\n",
       "      <th>DOF Number of Buildings</th>\n",
       "      <th>SiteEUI</th>\n",
       "    </tr>\n",
       "  </thead>\n",
       "  <tbody>\n",
       "    <tr>\n",
       "      <th>0</th>\n",
       "      <td>1.000410e+09</td>\n",
       "      <td>NaN</td>\n",
       "      <td>918919</td>\n",
       "      <td>Manhattan</td>\n",
       "      <td>NaN</td>\n",
       "      <td>NaN</td>\n",
       "    </tr>\n",
       "    <tr>\n",
       "      <th>3</th>\n",
       "      <td>1.006700e+09</td>\n",
       "      <td>10001.0</td>\n",
       "      <td>NaN</td>\n",
       "      <td>Manhattan</td>\n",
       "      <td>1.0</td>\n",
       "      <td>NaN</td>\n",
       "    </tr>\n",
       "    <tr>\n",
       "      <th>15</th>\n",
       "      <td>1.004370e+09</td>\n",
       "      <td>10009.0</td>\n",
       "      <td>NaN</td>\n",
       "      <td>Manhattan</td>\n",
       "      <td>1.0</td>\n",
       "      <td>NaN</td>\n",
       "    </tr>\n",
       "    <tr>\n",
       "      <th>16</th>\n",
       "      <td>1.013110e+09</td>\n",
       "      <td>10022.0</td>\n",
       "      <td>330000</td>\n",
       "      <td>Manhattan</td>\n",
       "      <td>1.0</td>\n",
       "      <td>125.4</td>\n",
       "    </tr>\n",
       "    <tr>\n",
       "      <th>18</th>\n",
       "      <td>1.006460e+09</td>\n",
       "      <td>NaN</td>\n",
       "      <td>69160</td>\n",
       "      <td>Manhattan</td>\n",
       "      <td>NaN</td>\n",
       "      <td>NaN</td>\n",
       "    </tr>\n",
       "  </tbody>\n",
       "</table>\n",
       "</div>"
      ],
      "text/plain": [
       "             BBL  ZipCode Reported Property Floor Area (Building(s)) (ft²)  \\\n",
       "0   1.000410e+09      NaN                                           918919   \n",
       "3   1.006700e+09  10001.0                                              NaN   \n",
       "15  1.004370e+09  10009.0                                              NaN   \n",
       "16  1.013110e+09  10022.0                                           330000   \n",
       "18  1.006460e+09      NaN                                            69160   \n",
       "\n",
       "      Borough  DOF Number of Buildings SiteEUI  \n",
       "0   Manhattan                      NaN     NaN  \n",
       "3   Manhattan                      1.0     NaN  \n",
       "15  Manhattan                      1.0     NaN  \n",
       "16  Manhattan                      1.0   125.4  \n",
       "18  Manhattan                      NaN     NaN  "
      ]
     },
     "execution_count": 10,
     "metadata": {},
     "output_type": "execute_result"
    }
   ],
   "source": [
    "nrg.head()"
   ]
  },
  {
   "cell_type": "code",
   "execution_count": 11,
   "metadata": {
    "run_control": {
     "frozen": false,
     "read_only": false
    }
   },
   "outputs": [
    {
     "data": {
      "text/plain": [
       "Index([u'Borough', u'Block', u'Lot', u'CD', u'CT2010', u'CB2010',\n",
       "       u'SchoolDist', u'Council', u'ZipCode', u'FireComp', u'PolicePrct',\n",
       "       u'HealthArea', u'SanitBoro', u'SanitDistrict', u'SanitSub', u'Address',\n",
       "       u'ZoneDist1', u'ZoneDist2', u'ZoneDist3', u'ZoneDist4', u'Overlay1',\n",
       "       u'Overlay2', u'SPDist1', u'SPDist2', u'SPDist3', u'LtdHeight',\n",
       "       u'SplitZone', u'BldgClass', u'LandUse', u'Easements', u'OwnerType',\n",
       "       u'OwnerName', u'LotArea', u'BldgArea', u'ComArea', u'ResArea',\n",
       "       u'OfficeArea', u'RetailArea', u'GarageArea', u'StrgeArea',\n",
       "       u'FactryArea', u'OtherArea', u'AreaSource', u'NumBldgs', u'NumFloors',\n",
       "       u'UnitsRes', u'UnitsTotal', u'LotFront', u'LotDepth', u'BldgFront',\n",
       "       u'BldgDepth', u'Ext', u'ProxCode', u'IrrLotCode', u'LotType',\n",
       "       u'BsmtCode', u'AssessLand', u'AssessTot', u'ExemptLand', u'ExemptTot',\n",
       "       u'YearBuilt', u'YearAlter1', u'YearAlter2', u'HistDist', u'Landmark',\n",
       "       u'BuiltFAR', u'ResidFAR', u'CommFAR', u'FacilFAR', u'BoroCode', u'BBL',\n",
       "       u'CondoNo', u'Tract2010', u'XCoord', u'YCoord', u'ZoneMap', u'ZMCode',\n",
       "       u'Sanborn', u'TaxMap', u'EDesigNum', u'APPBBL', u'APPDate',\n",
       "       u'PLUTOMapID', u'Version'],\n",
       "      dtype='object')"
      ]
     },
     "execution_count": 11,
     "metadata": {},
     "output_type": "execute_result"
    }
   ],
   "source": [
    "bsize.columns"
   ]
  },
  {
   "cell_type": "code",
   "execution_count": 12,
   "metadata": {},
   "outputs": [
    {
     "data": {
      "text/html": [
       "<div>\n",
       "<table border=\"1\" class=\"dataframe\">\n",
       "  <thead>\n",
       "    <tr style=\"text-align: right;\">\n",
       "      <th></th>\n",
       "      <th>BBL</th>\n",
       "      <th>ZipCode</th>\n",
       "      <th>UnitsRes</th>\n",
       "      <th>UnitsTotal</th>\n",
       "      <th>YearBuilt</th>\n",
       "    </tr>\n",
       "  </thead>\n",
       "  <tbody>\n",
       "    <tr>\n",
       "      <th>0</th>\n",
       "      <td>1.000010e+09</td>\n",
       "      <td>10004.0</td>\n",
       "      <td>0</td>\n",
       "      <td>0</td>\n",
       "      <td>1900</td>\n",
       "    </tr>\n",
       "    <tr>\n",
       "      <th>1</th>\n",
       "      <td>1.000010e+09</td>\n",
       "      <td>10004.0</td>\n",
       "      <td>0</td>\n",
       "      <td>0</td>\n",
       "      <td>1900</td>\n",
       "    </tr>\n",
       "    <tr>\n",
       "      <th>2</th>\n",
       "      <td>1.000010e+09</td>\n",
       "      <td>10004.0</td>\n",
       "      <td>0</td>\n",
       "      <td>0</td>\n",
       "      <td>1900</td>\n",
       "    </tr>\n",
       "    <tr>\n",
       "      <th>3</th>\n",
       "      <td>1.000010e+09</td>\n",
       "      <td>10004.0</td>\n",
       "      <td>0</td>\n",
       "      <td>0</td>\n",
       "      <td>0</td>\n",
       "    </tr>\n",
       "    <tr>\n",
       "      <th>4</th>\n",
       "      <td>1.000010e+09</td>\n",
       "      <td>10004.0</td>\n",
       "      <td>0</td>\n",
       "      <td>0</td>\n",
       "      <td>0</td>\n",
       "    </tr>\n",
       "  </tbody>\n",
       "</table>\n",
       "</div>"
      ],
      "text/plain": [
       "            BBL  ZipCode  UnitsRes  UnitsTotal  YearBuilt\n",
       "0  1.000010e+09  10004.0         0           0       1900\n",
       "1  1.000010e+09  10004.0         0           0       1900\n",
       "2  1.000010e+09  10004.0         0           0       1900\n",
       "3  1.000010e+09  10004.0         0           0          0\n",
       "4  1.000010e+09  10004.0         0           0          0"
      ]
     },
     "execution_count": 12,
     "metadata": {},
     "output_type": "execute_result"
    }
   ],
   "source": [
    "bsize = bsize[['BBL', 'ZipCode', 'UnitsRes', 'UnitsTotal', 'YearBuilt']]\n",
    "bsize.head()"
   ]
  },
  {
   "cell_type": "markdown",
   "metadata": {},
   "source": [
    "## exploratory analysis"
   ]
  },
  {
   "cell_type": "code",
   "execution_count": 13,
   "metadata": {
    "ExecuteTime": {
     "end_time": "2017-10-19T15:22:00.187105",
     "start_time": "2017-10-19T15:21:54.857349"
    },
    "run_control": {
     "frozen": false,
     "read_only": false
    }
   },
   "outputs": [
    {
     "data": {
      "image/png": "[encoded data removed]",
      "text/plain": [
       "<matplotlib.figure.Figure at 0x7f59e346b450>"
      ]
     },
     "metadata": {},
     "output_type": "display_data"
    }
   ],
   "source": [
    "from pandas.tools.plotting import scatter_matrix\n",
    "scatter_matrix (nrg, s=300, figsize=(16, 16));"
   ]
  },
  {
   "cell_type": "markdown",
   "metadata": {
    "run_control": {
     "frozen": false,
     "read_only": false
    }
   },
   "source": [
    "#### By scattering plotting all the variables against each other, you could potentially identify relationships that may be interesting. "
   ]
  },
  {
   "cell_type": "code",
   "execution_count": 14,
   "metadata": {},
   "outputs": [
    {
     "data": {
      "text/plain": [
       "BBL                                                 float64\n",
       "ZipCode                                             float64\n",
       "Reported Property Floor Area (Building(s)) (ft²)     object\n",
       "Borough                                              object\n",
       "DOF Number of Buildings                             float64\n",
       "SiteEUI                                              object\n",
       "dtype: object"
      ]
     },
     "execution_count": 14,
     "metadata": {},
     "output_type": "execute_result"
    }
   ],
   "source": [
    "nrg.dtypes"
   ]
  },
  {
   "cell_type": "code",
   "execution_count": 15,
   "metadata": {},
   "outputs": [],
   "source": [
    "def tonumeric(x): \n",
    "    x = pd.to_numeric(x, errors='coerce') \n",
    "    return x"
   ]
  },
  {
   "cell_type": "code",
   "execution_count": 16,
   "metadata": {},
   "outputs": [],
   "source": [
    "nrg['SiteEUI'] = nrg['SiteEUI'].apply(tonumeric)\n",
    "nrg['Reported Property Floor Area (Building(s)) (ft²)'] = nrg['Reported Property Floor Area (Building(s)) (ft²)'].apply(tonumeric)"
   ]
  },
  {
   "cell_type": "code",
   "execution_count": 17,
   "metadata": {},
   "outputs": [
    {
     "data": {
      "text/plain": [
       "BBL                                                 float64\n",
       "ZipCode                                             float64\n",
       "Reported Property Floor Area (Building(s)) (ft²)    float64\n",
       "Borough                                              object\n",
       "DOF Number of Buildings                             float64\n",
       "SiteEUI                                             float64\n",
       "dtype: object"
      ]
     },
     "execution_count": 17,
     "metadata": {},
     "output_type": "execute_result"
    }
   ],
   "source": [
    "nrg.dtypes"
   ]
  },
  {
   "cell_type": "code",
   "execution_count": 18,
   "metadata": {
    "run_control": {
     "frozen": false,
     "read_only": false
    }
   },
   "outputs": [
    {
     "name": "stdout",
     "output_type": "stream",
     "text": [
      "0            NaN\n",
      "3            NaN\n",
      "15           NaN\n",
      "16         125.4\n",
      "18           NaN\n",
      "24           NaN\n",
      "25           NaN\n",
      "28           NaN\n",
      "29           NaN\n",
      "31           NaN\n",
      "40           NaN\n",
      "42           NaN\n",
      "43           NaN\n",
      "44         154.9\n",
      "50           NaN\n",
      "51           NaN\n",
      "52           NaN\n",
      "53           NaN\n",
      "64         122.3\n",
      "65         117.0\n",
      "66           NaN\n",
      "67           NaN\n",
      "76          82.1\n",
      "77         137.7\n",
      "78         103.2\n",
      "79          74.0\n",
      "82         130.0\n",
      "83         138.3\n",
      "84       56909.0\n",
      "85          88.2\n",
      "          ...   \n",
      "16078        NaN\n",
      "16079        NaN\n",
      "16080        NaN\n",
      "16092        NaN\n",
      "16093        NaN\n",
      "16094        NaN\n",
      "16095        NaN\n",
      "16096        NaN\n",
      "16097        NaN\n",
      "16098        NaN\n",
      "16099        NaN\n",
      "16100        NaN\n",
      "16101        NaN\n",
      "16102        NaN\n",
      "16105        NaN\n",
      "16106        NaN\n",
      "16107        NaN\n",
      "16111        NaN\n",
      "16113        NaN\n",
      "16130        NaN\n",
      "16131        NaN\n",
      "16132        NaN\n",
      "16151        NaN\n",
      "16152        NaN\n",
      "16153        NaN\n",
      "16163        NaN\n",
      "16164        NaN\n",
      "16165        NaN\n",
      "16166        NaN\n",
      "16167        NaN\n",
      "Name: SiteEUI, dtype: float64\n",
      "0        1.000010e+09\n",
      "1        1.000010e+09\n",
      "2        1.000010e+09\n",
      "3        1.000010e+09\n",
      "4        1.000010e+09\n",
      "5        1.000020e+09\n",
      "6        1.000020e+09\n",
      "7        1.000020e+09\n",
      "8        1.000020e+09\n",
      "9        1.000030e+09\n",
      "10       1.000030e+09\n",
      "11       1.000030e+09\n",
      "12       1.000030e+09\n",
      "13       1.000030e+09\n",
      "14       1.000048e+09\n",
      "15       1.000050e+09\n",
      "16       1.000058e+09\n",
      "17       1.000060e+09\n",
      "18       1.000070e+09\n",
      "19       1.000070e+09\n",
      "20       1.000070e+09\n",
      "21       1.000070e+09\n",
      "22       1.000070e+09\n",
      "23       1.000070e+09\n",
      "24       1.000070e+09\n",
      "25       1.000070e+09\n",
      "26       1.000070e+09\n",
      "27       1.000078e+09\n",
      "28       1.000078e+09\n",
      "29       1.000080e+09\n",
      "             ...     \n",
      "42928    1.022480e+09\n",
      "42929    1.022480e+09\n",
      "42930    1.022480e+09\n",
      "42931    1.022480e+09\n",
      "42932    1.022480e+09\n",
      "42933    1.022480e+09\n",
      "42934    1.022480e+09\n",
      "42935    1.022480e+09\n",
      "42936    1.022480e+09\n",
      "42937    1.022480e+09\n",
      "42938    1.022488e+09\n",
      "42939    1.022500e+09\n",
      "42940    1.022500e+09\n",
      "42941    1.022500e+09\n",
      "42942    1.022500e+09\n",
      "42943    1.022500e+09\n",
      "42944    1.022500e+09\n",
      "42945    1.022500e+09\n",
      "42946    1.022500e+09\n",
      "42947    1.022500e+09\n",
      "42948    1.022500e+09\n",
      "42949    1.022500e+09\n",
      "42950    1.022500e+09\n",
      "42951    1.022500e+09\n",
      "42952    1.022500e+09\n",
      "42953    1.022500e+09\n",
      "42954    1.022500e+09\n",
      "42955    1.022550e+09\n",
      "42956    1.022551e+09\n",
      "42957    1.022552e+09\n",
      "Name: BBL, dtype: float64\n"
     ]
    }
   ],
   "source": [
    "print (nrg['SiteEUI'].astype(float))\n",
    "print (bsize.BBL.astype(float))"
   ]
  },
  {
   "cell_type": "code",
   "execution_count": 19,
   "metadata": {
    "ExecuteTime": {
     "end_time": "2017-10-19T15:46:50.865485",
     "start_time": "2017-10-19T15:46:50.858740"
    },
    "run_control": {
     "frozen": false,
     "read_only": false
    }
   },
   "outputs": [
    {
     "name": "stdout",
     "output_type": "stream",
     "text": [
      "invalid entries changed to NaN 1544\n"
     ]
    }
   ],
   "source": [
    "indx = np.isnan(nrg['SiteEUI']).sum()\n",
    "print (\"invalid entries changed to NaN %d\"%sum(indx))"
   ]
  },
  {
   "cell_type": "code",
   "execution_count": 20,
   "metadata": {
    "ExecuteTime": {
     "end_time": "2017-10-19T15:47:20.434273",
     "start_time": "2017-10-19T15:47:20.426426"
    }
   },
   "outputs": [
    {
     "data": {
      "text/plain": [
       "(1000010010.0, 1000410001.0)"
      ]
     },
     "execution_count": 20,
     "metadata": {},
     "output_type": "execute_result"
    }
   ],
   "source": [
    "(bsize.BBL.values[0]), (nrg.BBL.values[0])"
   ]
  },
  {
   "cell_type": "code",
   "execution_count": 21,
   "metadata": {
    "ExecuteTime": {
     "end_time": "2017-10-19T15:47:32.313527",
     "start_time": "2017-10-19T15:47:32.267121"
    }
   },
   "outputs": [
    {
     "data": {
      "text/html": [
       "<div>\n",
       "<table border=\"1\" class=\"dataframe\">\n",
       "  <thead>\n",
       "    <tr style=\"text-align: right;\">\n",
       "      <th></th>\n",
       "      <th>BBL</th>\n",
       "      <th>ZipCode_x</th>\n",
       "      <th>Reported Property Floor Area (Building(s)) (ft²)</th>\n",
       "      <th>Borough</th>\n",
       "      <th>DOF Number of Buildings</th>\n",
       "      <th>SiteEUI</th>\n",
       "      <th>ZipCode_y</th>\n",
       "      <th>UnitsRes</th>\n",
       "      <th>UnitsTotal</th>\n",
       "      <th>YearBuilt</th>\n",
       "    </tr>\n",
       "  </thead>\n",
       "  <tbody>\n",
       "    <tr>\n",
       "      <th>2</th>\n",
       "      <td>1.013110e+09</td>\n",
       "      <td>10022.0</td>\n",
       "      <td>330000.0</td>\n",
       "      <td>Manhattan</td>\n",
       "      <td>1.0</td>\n",
       "      <td>125.4</td>\n",
       "      <td>10022.0</td>\n",
       "      <td>0</td>\n",
       "      <td>56</td>\n",
       "      <td>1977</td>\n",
       "    </tr>\n",
       "    <tr>\n",
       "      <th>15</th>\n",
       "      <td>1.007660e+09</td>\n",
       "      <td>10011.0</td>\n",
       "      <td>59468.0</td>\n",
       "      <td>Manhattan</td>\n",
       "      <td>1.0</td>\n",
       "      <td>122.3</td>\n",
       "      <td>10011.0</td>\n",
       "      <td>0</td>\n",
       "      <td>8</td>\n",
       "      <td>1912</td>\n",
       "    </tr>\n",
       "    <tr>\n",
       "      <th>16</th>\n",
       "      <td>1.008150e+09</td>\n",
       "      <td>10018.0</td>\n",
       "      <td>364000.0</td>\n",
       "      <td>Manhattan</td>\n",
       "      <td>1.0</td>\n",
       "      <td>117.0</td>\n",
       "      <td>10018.0</td>\n",
       "      <td>0</td>\n",
       "      <td>24</td>\n",
       "      <td>1954</td>\n",
       "    </tr>\n",
       "    <tr>\n",
       "      <th>18</th>\n",
       "      <td>1.005050e+09</td>\n",
       "      <td>10013.0</td>\n",
       "      <td>235370.0</td>\n",
       "      <td>Manhattan</td>\n",
       "      <td>1.0</td>\n",
       "      <td>82.1</td>\n",
       "      <td>10013.0</td>\n",
       "      <td>0</td>\n",
       "      <td>24</td>\n",
       "      <td>1926</td>\n",
       "    </tr>\n",
       "    <tr>\n",
       "      <th>19</th>\n",
       "      <td>1.021420e+09</td>\n",
       "      <td>10032.0</td>\n",
       "      <td>64806.0</td>\n",
       "      <td>Manhattan</td>\n",
       "      <td>1.0</td>\n",
       "      <td>137.7</td>\n",
       "      <td>10032.0</td>\n",
       "      <td>54</td>\n",
       "      <td>62</td>\n",
       "      <td>1924</td>\n",
       "    </tr>\n",
       "    <tr>\n",
       "      <th>20</th>\n",
       "      <td>1.021750e+09</td>\n",
       "      <td>10040.0</td>\n",
       "      <td>62839.0</td>\n",
       "      <td>Manhattan</td>\n",
       "      <td>1.0</td>\n",
       "      <td>103.2</td>\n",
       "      <td>10040.0</td>\n",
       "      <td>75</td>\n",
       "      <td>85</td>\n",
       "      <td>1920</td>\n",
       "    </tr>\n",
       "    <tr>\n",
       "      <th>21</th>\n",
       "      <td>1.003360e+09</td>\n",
       "      <td>10002.0</td>\n",
       "      <td>98000.0</td>\n",
       "      <td>Manhattan</td>\n",
       "      <td>1.0</td>\n",
       "      <td>74.0</td>\n",
       "      <td>10002.0</td>\n",
       "      <td>128</td>\n",
       "      <td>128</td>\n",
       "      <td>1982</td>\n",
       "    </tr>\n",
       "    <tr>\n",
       "      <th>22</th>\n",
       "      <td>1.008070e+09</td>\n",
       "      <td>10001.0</td>\n",
       "      <td>204417.0</td>\n",
       "      <td>Manhattan</td>\n",
       "      <td>1.0</td>\n",
       "      <td>130.0</td>\n",
       "      <td>10001.0</td>\n",
       "      <td>0</td>\n",
       "      <td>10</td>\n",
       "      <td>1912</td>\n",
       "    </tr>\n",
       "    <tr>\n",
       "      <th>23</th>\n",
       "      <td>1.008580e+09</td>\n",
       "      <td>10016.0</td>\n",
       "      <td>60110.0</td>\n",
       "      <td>Manhattan</td>\n",
       "      <td>1.0</td>\n",
       "      <td>138.3</td>\n",
       "      <td>10016.0</td>\n",
       "      <td>56</td>\n",
       "      <td>61</td>\n",
       "      <td>1923</td>\n",
       "    </tr>\n",
       "    <tr>\n",
       "      <th>24</th>\n",
       "      <td>1.009688e+09</td>\n",
       "      <td>10016.0</td>\n",
       "      <td>457946.0</td>\n",
       "      <td>Manhattan</td>\n",
       "      <td>1.0</td>\n",
       "      <td>56909.0</td>\n",
       "      <td>10016.0</td>\n",
       "      <td>485</td>\n",
       "      <td>486</td>\n",
       "      <td>1984</td>\n",
       "    </tr>\n",
       "  </tbody>\n",
       "</table>\n",
       "</div>"
      ],
      "text/plain": [
       "             BBL  ZipCode_x  Reported Property Floor Area (Building(s)) (ft²)  \\\n",
       "2   1.013110e+09    10022.0                                          330000.0   \n",
       "15  1.007660e+09    10011.0                                           59468.0   \n",
       "16  1.008150e+09    10018.0                                          364000.0   \n",
       "18  1.005050e+09    10013.0                                          235370.0   \n",
       "19  1.021420e+09    10032.0                                           64806.0   \n",
       "20  1.021750e+09    10040.0                                           62839.0   \n",
       "21  1.003360e+09    10002.0                                           98000.0   \n",
       "22  1.008070e+09    10001.0                                          204417.0   \n",
       "23  1.008580e+09    10016.0                                           60110.0   \n",
       "24  1.009688e+09    10016.0                                          457946.0   \n",
       "\n",
       "      Borough  DOF Number of Buildings  SiteEUI  ZipCode_y  UnitsRes  \\\n",
       "2   Manhattan                      1.0    125.4    10022.0         0   \n",
       "15  Manhattan                      1.0    122.3    10011.0         0   \n",
       "16  Manhattan                      1.0    117.0    10018.0         0   \n",
       "18  Manhattan                      1.0     82.1    10013.0         0   \n",
       "19  Manhattan                      1.0    137.7    10032.0        54   \n",
       "20  Manhattan                      1.0    103.2    10040.0        75   \n",
       "21  Manhattan                      1.0     74.0    10002.0       128   \n",
       "22  Manhattan                      1.0    130.0    10001.0         0   \n",
       "23  Manhattan                      1.0    138.3    10016.0        56   \n",
       "24  Manhattan                      1.0  56909.0    10016.0       485   \n",
       "\n",
       "    UnitsTotal  YearBuilt  \n",
       "2           56       1977  \n",
       "15           8       1912  \n",
       "16          24       1954  \n",
       "18          24       1926  \n",
       "19          62       1924  \n",
       "20          85       1920  \n",
       "21         128       1982  \n",
       "22          10       1912  \n",
       "23          61       1923  \n",
       "24         486       1984  "
      ]
     },
     "execution_count": 21,
     "metadata": {},
     "output_type": "execute_result"
    }
   ],
   "source": [
    "bblnrgdata = pd.merge(nrg, bsize, on='BBL').dropna()\n",
    "bblnrgdata.shape\n",
    "bblnrgdata.head(10)"
   ]
  },
  {
   "cell_type": "code",
   "execution_count": 22,
   "metadata": {},
   "outputs": [
    {
     "data": {
      "text/plain": [
       "Index([u'BBL', u'ZipCode_x',\n",
       "       u'Reported Property Floor Area (Building(s)) (ft²)', u'Borough',\n",
       "       u'DOF Number of Buildings', u'SiteEUI', u'ZipCode_y', u'UnitsRes',\n",
       "       u'UnitsTotal', u'YearBuilt'],\n",
       "      dtype='object')"
      ]
     },
     "execution_count": 22,
     "metadata": {},
     "output_type": "execute_result"
    }
   ],
   "source": [
    "bblnrgdata.columns"
   ]
  },
  {
   "cell_type": "code",
   "execution_count": 23,
   "metadata": {},
   "outputs": [
    {
     "data": {
      "text/html": [
       "<div>\n",
       "<table border=\"1\" class=\"dataframe\">\n",
       "  <thead>\n",
       "    <tr style=\"text-align: right;\">\n",
       "      <th></th>\n",
       "      <th>BBL</th>\n",
       "      <th>Reported Property Floor Area (Building(s)) (ft²)</th>\n",
       "      <th>DOF Number of Buildings</th>\n",
       "      <th>SiteEUI</th>\n",
       "      <th>UnitsRes</th>\n",
       "      <th>UnitsTotal</th>\n",
       "      <th>YearBuilt</th>\n",
       "    </tr>\n",
       "  </thead>\n",
       "  <tbody>\n",
       "    <tr>\n",
       "      <th>2</th>\n",
       "      <td>1.013110e+09</td>\n",
       "      <td>330000.0</td>\n",
       "      <td>1.0</td>\n",
       "      <td>125.4</td>\n",
       "      <td>0</td>\n",
       "      <td>56</td>\n",
       "      <td>1977</td>\n",
       "    </tr>\n",
       "    <tr>\n",
       "      <th>15</th>\n",
       "      <td>1.007660e+09</td>\n",
       "      <td>59468.0</td>\n",
       "      <td>1.0</td>\n",
       "      <td>122.3</td>\n",
       "      <td>0</td>\n",
       "      <td>8</td>\n",
       "      <td>1912</td>\n",
       "    </tr>\n",
       "    <tr>\n",
       "      <th>16</th>\n",
       "      <td>1.008150e+09</td>\n",
       "      <td>364000.0</td>\n",
       "      <td>1.0</td>\n",
       "      <td>117.0</td>\n",
       "      <td>0</td>\n",
       "      <td>24</td>\n",
       "      <td>1954</td>\n",
       "    </tr>\n",
       "    <tr>\n",
       "      <th>18</th>\n",
       "      <td>1.005050e+09</td>\n",
       "      <td>235370.0</td>\n",
       "      <td>1.0</td>\n",
       "      <td>82.1</td>\n",
       "      <td>0</td>\n",
       "      <td>24</td>\n",
       "      <td>1926</td>\n",
       "    </tr>\n",
       "    <tr>\n",
       "      <th>19</th>\n",
       "      <td>1.021420e+09</td>\n",
       "      <td>64806.0</td>\n",
       "      <td>1.0</td>\n",
       "      <td>137.7</td>\n",
       "      <td>54</td>\n",
       "      <td>62</td>\n",
       "      <td>1924</td>\n",
       "    </tr>\n",
       "  </tbody>\n",
       "</table>\n",
       "</div>"
      ],
      "text/plain": [
       "             BBL  Reported Property Floor Area (Building(s)) (ft²)  \\\n",
       "2   1.013110e+09                                          330000.0   \n",
       "15  1.007660e+09                                           59468.0   \n",
       "16  1.008150e+09                                          364000.0   \n",
       "18  1.005050e+09                                          235370.0   \n",
       "19  1.021420e+09                                           64806.0   \n",
       "\n",
       "    DOF Number of Buildings  SiteEUI  UnitsRes  UnitsTotal  YearBuilt  \n",
       "2                       1.0    125.4         0          56       1977  \n",
       "15                      1.0    122.3         0           8       1912  \n",
       "16                      1.0    117.0         0          24       1954  \n",
       "18                      1.0     82.1         0          24       1926  \n",
       "19                      1.0    137.7        54          62       1924  "
      ]
     },
     "execution_count": 23,
     "metadata": {},
     "output_type": "execute_result"
    }
   ],
   "source": [
    "bblnrgdata = bblnrgdata[['BBL', 'Reported Property Floor Area (Building(s)) (ft²)',\n",
    "       'DOF Number of Buildings', 'SiteEUI', 'UnitsRes', 'UnitsTotal', 'YearBuilt',]]\n",
    "bblnrgdata.head()"
   ]
  },
  {
   "cell_type": "code",
   "execution_count": 24,
   "metadata": {},
   "outputs": [
    {
     "data": {
      "text/html": [
       "<div>\n",
       "<table border=\"1\" class=\"dataframe\">\n",
       "  <thead>\n",
       "    <tr style=\"text-align: right;\">\n",
       "      <th></th>\n",
       "      <th>BBL</th>\n",
       "      <th>SiteEUI</th>\n",
       "      <th>UnitsRes</th>\n",
       "      <th>UnitsTotal</th>\n",
       "      <th>YearBuilt</th>\n",
       "    </tr>\n",
       "  </thead>\n",
       "  <tbody>\n",
       "    <tr>\n",
       "      <th>2</th>\n",
       "      <td>1.013110e+09</td>\n",
       "      <td>125.4</td>\n",
       "      <td>0</td>\n",
       "      <td>56</td>\n",
       "      <td>1977</td>\n",
       "    </tr>\n",
       "    <tr>\n",
       "      <th>15</th>\n",
       "      <td>1.007660e+09</td>\n",
       "      <td>122.3</td>\n",
       "      <td>0</td>\n",
       "      <td>8</td>\n",
       "      <td>1912</td>\n",
       "    </tr>\n",
       "    <tr>\n",
       "      <th>16</th>\n",
       "      <td>1.008150e+09</td>\n",
       "      <td>117.0</td>\n",
       "      <td>0</td>\n",
       "      <td>24</td>\n",
       "      <td>1954</td>\n",
       "    </tr>\n",
       "    <tr>\n",
       "      <th>18</th>\n",
       "      <td>1.005050e+09</td>\n",
       "      <td>82.1</td>\n",
       "      <td>0</td>\n",
       "      <td>24</td>\n",
       "      <td>1926</td>\n",
       "    </tr>\n",
       "    <tr>\n",
       "      <th>19</th>\n",
       "      <td>1.021420e+09</td>\n",
       "      <td>137.7</td>\n",
       "      <td>54</td>\n",
       "      <td>62</td>\n",
       "      <td>1924</td>\n",
       "    </tr>\n",
       "    <tr>\n",
       "      <th>20</th>\n",
       "      <td>1.021750e+09</td>\n",
       "      <td>103.2</td>\n",
       "      <td>75</td>\n",
       "      <td>85</td>\n",
       "      <td>1920</td>\n",
       "    </tr>\n",
       "    <tr>\n",
       "      <th>21</th>\n",
       "      <td>1.003360e+09</td>\n",
       "      <td>74.0</td>\n",
       "      <td>128</td>\n",
       "      <td>128</td>\n",
       "      <td>1982</td>\n",
       "    </tr>\n",
       "    <tr>\n",
       "      <th>22</th>\n",
       "      <td>1.008070e+09</td>\n",
       "      <td>130.0</td>\n",
       "      <td>0</td>\n",
       "      <td>10</td>\n",
       "      <td>1912</td>\n",
       "    </tr>\n",
       "    <tr>\n",
       "      <th>23</th>\n",
       "      <td>1.008580e+09</td>\n",
       "      <td>138.3</td>\n",
       "      <td>56</td>\n",
       "      <td>61</td>\n",
       "      <td>1923</td>\n",
       "    </tr>\n",
       "    <tr>\n",
       "      <th>24</th>\n",
       "      <td>1.009688e+09</td>\n",
       "      <td>56909.0</td>\n",
       "      <td>485</td>\n",
       "      <td>486</td>\n",
       "      <td>1984</td>\n",
       "    </tr>\n",
       "  </tbody>\n",
       "</table>\n",
       "</div>"
      ],
      "text/plain": [
       "             BBL  SiteEUI  UnitsRes  UnitsTotal  YearBuilt\n",
       "2   1.013110e+09    125.4         0          56       1977\n",
       "15  1.007660e+09    122.3         0           8       1912\n",
       "16  1.008150e+09    117.0         0          24       1954\n",
       "18  1.005050e+09     82.1         0          24       1926\n",
       "19  1.021420e+09    137.7        54          62       1924\n",
       "20  1.021750e+09    103.2        75          85       1920\n",
       "21  1.003360e+09     74.0       128         128       1982\n",
       "22  1.008070e+09    130.0         0          10       1912\n",
       "23  1.008580e+09    138.3        56          61       1923\n",
       "24  1.009688e+09  56909.0       485         486       1984"
      ]
     },
     "execution_count": 24,
     "metadata": {},
     "output_type": "execute_result"
    }
   ],
   "source": [
    "bblnrgdata2 = bblnrgdata[['BBL','SiteEUI', 'UnitsRes', 'UnitsTotal', 'YearBuilt',]]\n",
    "bblnrgdata2.head(10)"
   ]
  },
  {
   "cell_type": "code",
   "execution_count": 25,
   "metadata": {
    "ExecuteTime": {
     "end_time": "2017-10-19T15:48:56.747639",
     "start_time": "2017-10-19T15:48:52.459258"
    },
    "run_control": {
     "frozen": false,
     "read_only": false
    },
    "scrolled": true
   },
   "outputs": [
    {
     "data": {
      "image/png": "[encoded data removed]",
      "text/plain": [
       "<matplotlib.figure.Figure at 0x7f59e3587810>"
      ]
     },
     "metadata": {},
     "output_type": "display_data"
    }
   ],
   "source": [
    "scatter_matrix (bblnrgdata2, s=30, figsize=(16, 16));"
   ]
  },
  {
   "cell_type": "markdown",
   "metadata": {
    "ExecuteTime": {
     "end_time": "2017-10-19T15:49:16.596228",
     "start_time": "2017-10-19T15:49:16.591281"
    }
   },
   "source": [
    "### Caption: The matrix visually demonstrates the relationships between all the variables in the dataframe. It can help determine what relationships warrant further exploration. "
   ]
  },
  {
   "cell_type": "code",
   "execution_count": 26,
   "metadata": {
    "run_control": {
     "frozen": false,
     "read_only": false
    }
   },
   "outputs": [
    {
     "data": {
      "text/html": [
       "<div>\n",
       "<table border=\"1\" class=\"dataframe\">\n",
       "  <thead>\n",
       "    <tr style=\"text-align: right;\">\n",
       "      <th></th>\n",
       "      <th>BBL</th>\n",
       "      <th>Reported Property Floor Area (Building(s)) (ft²)</th>\n",
       "      <th>DOF Number of Buildings</th>\n",
       "      <th>SiteEUI</th>\n",
       "      <th>UnitsRes</th>\n",
       "      <th>UnitsTotal</th>\n",
       "      <th>YearBuilt</th>\n",
       "      <th>TotalEUI</th>\n",
       "    </tr>\n",
       "  </thead>\n",
       "  <tbody>\n",
       "    <tr>\n",
       "      <th>2</th>\n",
       "      <td>1.013110e+09</td>\n",
       "      <td>330000.0</td>\n",
       "      <td>1.0</td>\n",
       "      <td>125.4</td>\n",
       "      <td>0</td>\n",
       "      <td>56</td>\n",
       "      <td>1977</td>\n",
       "      <td>41382000.0</td>\n",
       "    </tr>\n",
       "    <tr>\n",
       "      <th>15</th>\n",
       "      <td>1.007660e+09</td>\n",
       "      <td>59468.0</td>\n",
       "      <td>1.0</td>\n",
       "      <td>122.3</td>\n",
       "      <td>0</td>\n",
       "      <td>8</td>\n",
       "      <td>1912</td>\n",
       "      <td>7272936.4</td>\n",
       "    </tr>\n",
       "    <tr>\n",
       "      <th>16</th>\n",
       "      <td>1.008150e+09</td>\n",
       "      <td>364000.0</td>\n",
       "      <td>1.0</td>\n",
       "      <td>117.0</td>\n",
       "      <td>0</td>\n",
       "      <td>24</td>\n",
       "      <td>1954</td>\n",
       "      <td>42588000.0</td>\n",
       "    </tr>\n",
       "    <tr>\n",
       "      <th>18</th>\n",
       "      <td>1.005050e+09</td>\n",
       "      <td>235370.0</td>\n",
       "      <td>1.0</td>\n",
       "      <td>82.1</td>\n",
       "      <td>0</td>\n",
       "      <td>24</td>\n",
       "      <td>1926</td>\n",
       "      <td>19323877.0</td>\n",
       "    </tr>\n",
       "    <tr>\n",
       "      <th>19</th>\n",
       "      <td>1.021420e+09</td>\n",
       "      <td>64806.0</td>\n",
       "      <td>1.0</td>\n",
       "      <td>137.7</td>\n",
       "      <td>54</td>\n",
       "      <td>62</td>\n",
       "      <td>1924</td>\n",
       "      <td>8923786.2</td>\n",
       "    </tr>\n",
       "  </tbody>\n",
       "</table>\n",
       "</div>"
      ],
      "text/plain": [
       "             BBL  Reported Property Floor Area (Building(s)) (ft²)  \\\n",
       "2   1.013110e+09                                          330000.0   \n",
       "15  1.007660e+09                                           59468.0   \n",
       "16  1.008150e+09                                          364000.0   \n",
       "18  1.005050e+09                                          235370.0   \n",
       "19  1.021420e+09                                           64806.0   \n",
       "\n",
       "    DOF Number of Buildings  SiteEUI  UnitsRes  UnitsTotal  YearBuilt  \\\n",
       "2                       1.0    125.4         0          56       1977   \n",
       "15                      1.0    122.3         0           8       1912   \n",
       "16                      1.0    117.0         0          24       1954   \n",
       "18                      1.0     82.1         0          24       1926   \n",
       "19                      1.0    137.7        54          62       1924   \n",
       "\n",
       "      TotalEUI  \n",
       "2   41382000.0  \n",
       "15   7272936.4  \n",
       "16  42588000.0  \n",
       "18  19323877.0  \n",
       "19   8923786.2  "
      ]
     },
     "execution_count": 26,
     "metadata": {},
     "output_type": "execute_result"
    }
   ],
   "source": [
    "bblnrgdata['TotalEUI'] = bblnrgdata['SiteEUI'] * bblnrgdata['Reported Property Floor Area (Building(s)) (ft²)']\n",
    "bblnrgdata.head()"
   ]
  },
  {
   "cell_type": "code",
   "execution_count": 27,
   "metadata": {},
   "outputs": [
    {
     "data": {
      "text/plain": [
       "<matplotlib.text.Text at 0x7f5a484ba490>"
      ]
     },
     "execution_count": 27,
     "metadata": {},
     "output_type": "execute_result"
    },
    {
     "data": {
      "image/png": "[encoded data removed]",
      "text/plain": [
       "<matplotlib.figure.Figure at 0x7f5a4847ced0>"
      ]
     },
     "metadata": {},
     "output_type": "display_data"
    }
   ],
   "source": [
    "fig = figsize(12,8)\n",
    "ax=subplot()\n",
    "pl.plot(bblnrgdata['TotalEUI'], bblnrgdata['UnitsTotal'], 'o')\n",
    "ax.set_xlabel(\"Total Energy Consmption (kBtu)\", fontsize=15)\n",
    "ax.set_ylabel('Number of Units', fontsize=15)\n",
    "ax.set_title(\"Total Energy Consumption and Number of Units\", fontsize=15)"
   ]
  },
  {
   "cell_type": "markdown",
   "metadata": {},
   "source": [
    "#### Caption: Because of the range of values, it is difficult to derive any insights from this plot of energy vs units. "
   ]
  },
  {
   "cell_type": "code",
   "execution_count": 28,
   "metadata": {
    "run_control": {
     "frozen": false,
     "read_only": false
    }
   },
   "outputs": [
    {
     "data": {
      "text/plain": [
       "<matplotlib.text.Text at 0x7f59e39dead0>"
      ]
     },
     "execution_count": 28,
     "metadata": {},
     "output_type": "execute_result"
    },
    {
     "data": {
      "image/png": "[encoded data removed]",
      "text/plain": [
       "<matplotlib.figure.Figure at 0x7f5a484bad10>"
      ]
     },
     "metadata": {},
     "output_type": "display_data"
    }
   ],
   "source": [
    "fig = figsize(12,8)\n",
    "ax=subplot()\n",
    "pl.plot(bblnrgdata['TotalEUI'], bblnrgdata['UnitsTotal'], 'o')\n",
    "ax.set_xlim(1000,1e10)\n",
    "ax.set_ylim(1,1000)\n",
    "ax.set_xlabel(\"Total Energy Consmption (kBtu)\", fontsize=15)\n",
    "ax.set_ylabel('Number of Units', fontsize=15)\n",
    "ax.set_title(\"Total Energy Consumption and Number of Units\", fontsize=15)"
   ]
  },
  {
   "cell_type": "markdown",
   "metadata": {},
   "source": [
    "#### Caption: By liminiting the axis and zooming it, you can start to see the relationship patterns between energy and units. "
   ]
  },
  {
   "cell_type": "code",
   "execution_count": 29,
   "metadata": {},
   "outputs": [
    {
     "name": "stderr",
     "output_type": "stream",
     "text": [
      "/opt/rh/anaconda/root/envs/PUI2016_Python2/lib/python2.7/site-packages/pandas/computation/expressions.py:181: UserWarning: evaluating in Python space because the '*' operator is not supported by numexpr for the bool dtype, use '&' instead\n",
      "  unsupported[op_str]))\n"
     ]
    },
    {
     "data": {
      "text/html": [
       "<div>\n",
       "<table border=\"1\" class=\"dataframe\">\n",
       "  <thead>\n",
       "    <tr style=\"text-align: right;\">\n",
       "      <th></th>\n",
       "      <th>BBL</th>\n",
       "      <th>Reported Property Floor Area (Building(s)) (ft²)</th>\n",
       "      <th>DOF Number of Buildings</th>\n",
       "      <th>SiteEUI</th>\n",
       "      <th>UnitsRes</th>\n",
       "      <th>UnitsTotal</th>\n",
       "      <th>YearBuilt</th>\n",
       "      <th>TotalEUI</th>\n",
       "    </tr>\n",
       "  </thead>\n",
       "  <tbody>\n",
       "    <tr>\n",
       "      <th>2</th>\n",
       "      <td>1.013110e+09</td>\n",
       "      <td>330000.0</td>\n",
       "      <td>1.0</td>\n",
       "      <td>125.4</td>\n",
       "      <td>0</td>\n",
       "      <td>56</td>\n",
       "      <td>1977</td>\n",
       "      <td>41382000.0</td>\n",
       "    </tr>\n",
       "    <tr>\n",
       "      <th>16</th>\n",
       "      <td>1.008150e+09</td>\n",
       "      <td>364000.0</td>\n",
       "      <td>1.0</td>\n",
       "      <td>117.0</td>\n",
       "      <td>0</td>\n",
       "      <td>24</td>\n",
       "      <td>1954</td>\n",
       "      <td>42588000.0</td>\n",
       "    </tr>\n",
       "    <tr>\n",
       "      <th>18</th>\n",
       "      <td>1.005050e+09</td>\n",
       "      <td>235370.0</td>\n",
       "      <td>1.0</td>\n",
       "      <td>82.1</td>\n",
       "      <td>0</td>\n",
       "      <td>24</td>\n",
       "      <td>1926</td>\n",
       "      <td>19323877.0</td>\n",
       "    </tr>\n",
       "    <tr>\n",
       "      <th>19</th>\n",
       "      <td>1.021420e+09</td>\n",
       "      <td>64806.0</td>\n",
       "      <td>1.0</td>\n",
       "      <td>137.7</td>\n",
       "      <td>54</td>\n",
       "      <td>62</td>\n",
       "      <td>1924</td>\n",
       "      <td>8923786.2</td>\n",
       "    </tr>\n",
       "    <tr>\n",
       "      <th>20</th>\n",
       "      <td>1.021750e+09</td>\n",
       "      <td>62839.0</td>\n",
       "      <td>1.0</td>\n",
       "      <td>103.2</td>\n",
       "      <td>75</td>\n",
       "      <td>85</td>\n",
       "      <td>1920</td>\n",
       "      <td>6484984.8</td>\n",
       "    </tr>\n",
       "  </tbody>\n",
       "</table>\n",
       "</div>"
      ],
      "text/plain": [
       "             BBL  Reported Property Floor Area (Building(s)) (ft²)  \\\n",
       "2   1.013110e+09                                          330000.0   \n",
       "16  1.008150e+09                                          364000.0   \n",
       "18  1.005050e+09                                          235370.0   \n",
       "19  1.021420e+09                                           64806.0   \n",
       "20  1.021750e+09                                           62839.0   \n",
       "\n",
       "    DOF Number of Buildings  SiteEUI  UnitsRes  UnitsTotal  YearBuilt  \\\n",
       "2                       1.0    125.4         0          56       1977   \n",
       "16                      1.0    117.0         0          24       1954   \n",
       "18                      1.0     82.1         0          24       1926   \n",
       "19                      1.0    137.7        54          62       1924   \n",
       "20                      1.0    103.2        75          85       1920   \n",
       "\n",
       "      TotalEUI  \n",
       "2   41382000.0  \n",
       "16  42588000.0  \n",
       "18  19323877.0  \n",
       "19   8923786.2  \n",
       "20   6484984.8  "
      ]
     },
     "execution_count": 29,
     "metadata": {},
     "output_type": "execute_result"
    }
   ],
   "source": [
    "bblnrgdataCut = bblnrgdata[(bblnrgdata.TotalEUI > 1000) * (bblnrgdata.UnitsTotal>=10) * \n",
    "                           (bblnrgdata.UnitsTotal<1000)]\n",
    "\n",
    "bblnrgdataCut.head()"
   ]
  },
  {
   "cell_type": "code",
   "execution_count": 30,
   "metadata": {
    "ExecuteTime": {
     "end_time": "2017-10-19T17:28:47.312217",
     "start_time": "2017-10-19T17:28:45.424304"
    },
    "run_control": {
     "frozen": false,
     "read_only": false
    }
   },
   "outputs": [
    {
     "data": {
      "text/plain": [
       "<matplotlib.text.Text at 0x7f59e39f8690>"
      ]
     },
     "execution_count": 30,
     "metadata": {},
     "output_type": "execute_result"
    },
    {
     "data": {
      "image/png": "[encoded data removed]",
      "text/plain": [
       "<matplotlib.figure.Figure at 0x7f59e3b2d410>"
      ]
     },
     "metadata": {},
     "output_type": "display_data"
    }
   ],
   "source": [
    "ax = bblnrgdataCut.plot(kind='scatter', y='TotalEUI', x='UnitsTotal', \n",
    "                   marker='o',  figsize=(12, 8), loglog=True)\n",
    "ax.set_xlabel(\"Number of Units\", fontsize=20)\n",
    "ax.set_ylabel(\"Energy consumption per building (kBtu)\", fontsize=20)\n",
    "ax.set_title(\"Log Units v Energy\")"
   ]
  },
  {
   "cell_type": "markdown",
   "metadata": {},
   "source": [
    "#### Caption: By taking the log, you can see that the relationship between number of units and energy consumption. "
   ]
  },
  {
   "cell_type": "markdown",
   "metadata": {},
   "source": [
    "The logical assumption to make is that number of units impacts the amount of energy used. As the number of units increases, so to should the amount of energy consumed. "
   ]
  },
  {
   "cell_type": "code",
   "execution_count": 31,
   "metadata": {},
   "outputs": [],
   "source": [
    "X = sm.add_constant(np.log10(bblnrgdataCut.UnitsTotal))\n",
    "linmodel = sm.OLS(np.log10(bblnrgdataCut.TotalEUI), X, missing='drop').fit()"
   ]
  },
  {
   "cell_type": "code",
   "execution_count": 32,
   "metadata": {},
   "outputs": [
    {
     "data": {
      "text/html": [
       "<table class=\"simpletable\">\n",
       "<caption>OLS Regression Results</caption>\n",
       "<tr>\n",
       "  <th>Dep. Variable:</th>        <td>TotalEUI</td>     <th>  R-squared:         </th> <td>   0.166</td> \n",
       "</tr>\n",
       "<tr>\n",
       "  <th>Model:</th>                   <td>OLS</td>       <th>  Adj. R-squared:    </th> <td>   0.166</td> \n",
       "</tr>\n",
       "<tr>\n",
       "  <th>Method:</th>             <td>Least Squares</td>  <th>  F-statistic:       </th> <td>   799.8</td> \n",
       "</tr>\n",
       "<tr>\n",
       "  <th>Date:</th>             <td>Sun, 26 Nov 2017</td> <th>  Prob (F-statistic):</th> <td>1.38e-160</td>\n",
       "</tr>\n",
       "<tr>\n",
       "  <th>Time:</th>                 <td>16:01:16</td>     <th>  Log-Likelihood:    </th> <td> -2365.2</td> \n",
       "</tr>\n",
       "<tr>\n",
       "  <th>No. Observations:</th>      <td>  4008</td>      <th>  AIC:               </th> <td>   4734.</td> \n",
       "</tr>\n",
       "<tr>\n",
       "  <th>Df Residuals:</th>          <td>  4006</td>      <th>  BIC:               </th> <td>   4747.</td> \n",
       "</tr>\n",
       "<tr>\n",
       "  <th>Df Model:</th>              <td>     1</td>      <th>                     </th>     <td> </td>    \n",
       "</tr>\n",
       "<tr>\n",
       "  <th>Covariance Type:</th>      <td>nonrobust</td>    <th>                     </th>     <td> </td>    \n",
       "</tr>\n",
       "</table>\n",
       "<table class=\"simpletable\">\n",
       "<tr>\n",
       "       <td></td>         <th>coef</th>     <th>std err</th>      <th>t</th>      <th>P>|t|</th> <th>[95.0% Conf. Int.]</th> \n",
       "</tr>\n",
       "<tr>\n",
       "  <th>const</th>      <td>    6.1050</td> <td>    0.034</td> <td>  180.957</td> <td> 0.000</td> <td>    6.039     6.171</td>\n",
       "</tr>\n",
       "<tr>\n",
       "  <th>UnitsTotal</th> <td>    0.4933</td> <td>    0.017</td> <td>   28.281</td> <td> 0.000</td> <td>    0.459     0.527</td>\n",
       "</tr>\n",
       "</table>\n",
       "<table class=\"simpletable\">\n",
       "<tr>\n",
       "  <th>Omnibus:</th>       <td>2200.210</td> <th>  Durbin-Watson:     </th> <td>   1.691</td> \n",
       "</tr>\n",
       "<tr>\n",
       "  <th>Prob(Omnibus):</th>  <td> 0.000</td>  <th>  Jarque-Bera (JB):  </th> <td>46847.024</td>\n",
       "</tr>\n",
       "<tr>\n",
       "  <th>Skew:</th>           <td> 2.162</td>  <th>  Prob(JB):          </th> <td>    0.00</td> \n",
       "</tr>\n",
       "<tr>\n",
       "  <th>Kurtosis:</th>       <td>19.181</td>  <th>  Cond. No.          </th> <td>    11.9</td> \n",
       "</tr>\n",
       "</table>"
      ],
      "text/plain": [
       "<class 'statsmodels.iolib.summary.Summary'>\n",
       "\"\"\"\n",
       "                            OLS Regression Results                            \n",
       "==============================================================================\n",
       "Dep. Variable:               TotalEUI   R-squared:                       0.166\n",
       "Model:                            OLS   Adj. R-squared:                  0.166\n",
       "Method:                 Least Squares   F-statistic:                     799.8\n",
       "Date:                Sun, 26 Nov 2017   Prob (F-statistic):          1.38e-160\n",
       "Time:                        16:01:16   Log-Likelihood:                -2365.2\n",
       "No. Observations:                4008   AIC:                             4734.\n",
       "Df Residuals:                    4006   BIC:                             4747.\n",
       "Df Model:                           1                                         \n",
       "Covariance Type:            nonrobust                                         \n",
       "==============================================================================\n",
       "                 coef    std err          t      P>|t|      [95.0% Conf. Int.]\n",
       "------------------------------------------------------------------------------\n",
       "const          6.1050      0.034    180.957      0.000         6.039     6.171\n",
       "UnitsTotal     0.4933      0.017     28.281      0.000         0.459     0.527\n",
       "==============================================================================\n",
       "Omnibus:                     2200.210   Durbin-Watson:                   1.691\n",
       "Prob(Omnibus):                  0.000   Jarque-Bera (JB):            46847.024\n",
       "Skew:                           2.162   Prob(JB):                         0.00\n",
       "Kurtosis:                      19.181   Cond. No.                         11.9\n",
       "==============================================================================\n",
       "\n",
       "Warnings:\n",
       "[1] Standard Errors assume that the covariance matrix of the errors is correctly specified.\n",
       "\"\"\""
      ]
     },
     "execution_count": 32,
     "metadata": {},
     "output_type": "execute_result"
    }
   ],
   "source": [
    "linmodel.summary()"
   ]
  },
  {
   "cell_type": "code",
   "execution_count": 33,
   "metadata": {},
   "outputs": [
    {
     "data": {
      "text/plain": [
       "<matplotlib.text.Text at 0x7f59e5a47310>"
      ]
     },
     "execution_count": 33,
     "metadata": {},
     "output_type": "execute_result"
    },
    {
     "data": {
      "image/png": "[encoded data removed]",
      "text/plain": [
       "<matplotlib.figure.Figure at 0x7f59e410ad10>"
      ]
     },
     "metadata": {},
     "output_type": "display_data"
    }
   ],
   "source": [
    "plt.scatter(np.log10(bblnrgdataCut.UnitsTotal), np.log10(bblnrgdataCut.TotalEUI))\n",
    "plt.plot(np.log10(bblnrgdataCut.UnitsTotal), linmodel.predict(X), '-', c='r')\n",
    "plt.xlabel(\"Number of Units\")\n",
    "plt.ylabel(\"TotalEUI\")\n",
    "plt.title(\"Fitted line to Units v Energy\")"
   ]
  },
  {
   "cell_type": "markdown",
   "metadata": {},
   "source": [
    "#### Caption: The line looks like a reasonable fit through the data. "
   ]
  },
  {
   "cell_type": "code",
   "execution_count": 34,
   "metadata": {},
   "outputs": [],
   "source": [
    "X2 = sm.add_constant(np.log10(bblnrgdataCut.TotalEUI))\n",
    "linmodel2 = sm.OLS(np.log10(bblnrgdataCut.UnitsTotal), X2, missing='drop').fit()"
   ]
  },
  {
   "cell_type": "code",
   "execution_count": 35,
   "metadata": {},
   "outputs": [
    {
     "data": {
      "text/html": [
       "<div>\n",
       "<table border=\"1\" class=\"dataframe\">\n",
       "  <thead>\n",
       "    <tr style=\"text-align: right;\">\n",
       "      <th></th>\n",
       "      <th>const</th>\n",
       "      <th>TotalEUI</th>\n",
       "    </tr>\n",
       "  </thead>\n",
       "  <tbody>\n",
       "    <tr>\n",
       "      <th>2</th>\n",
       "      <td>1.0</td>\n",
       "      <td>7.616811</td>\n",
       "    </tr>\n",
       "    <tr>\n",
       "      <th>16</th>\n",
       "      <td>1.0</td>\n",
       "      <td>7.629287</td>\n",
       "    </tr>\n",
       "    <tr>\n",
       "      <th>18</th>\n",
       "      <td>1.0</td>\n",
       "      <td>7.286094</td>\n",
       "    </tr>\n",
       "    <tr>\n",
       "      <th>19</th>\n",
       "      <td>1.0</td>\n",
       "      <td>6.950549</td>\n",
       "    </tr>\n",
       "    <tr>\n",
       "      <th>20</th>\n",
       "      <td>1.0</td>\n",
       "      <td>6.811909</td>\n",
       "    </tr>\n",
       "  </tbody>\n",
       "</table>\n",
       "</div>"
      ],
      "text/plain": [
       "    const  TotalEUI\n",
       "2     1.0  7.616811\n",
       "16    1.0  7.629287\n",
       "18    1.0  7.286094\n",
       "19    1.0  6.950549\n",
       "20    1.0  6.811909"
      ]
     },
     "execution_count": 35,
     "metadata": {},
     "output_type": "execute_result"
    }
   ],
   "source": [
    "X2.head()"
   ]
  },
  {
   "cell_type": "code",
   "execution_count": 36,
   "metadata": {},
   "outputs": [
    {
     "data": {
      "text/html": [
       "<table class=\"simpletable\">\n",
       "<caption>OLS Regression Results</caption>\n",
       "<tr>\n",
       "  <th>Dep. Variable:</th>       <td>UnitsTotal</td>    <th>  R-squared:         </th> <td>   0.166</td> \n",
       "</tr>\n",
       "<tr>\n",
       "  <th>Model:</th>                   <td>OLS</td>       <th>  Adj. R-squared:    </th> <td>   0.166</td> \n",
       "</tr>\n",
       "<tr>\n",
       "  <th>Method:</th>             <td>Least Squares</td>  <th>  F-statistic:       </th> <td>   799.8</td> \n",
       "</tr>\n",
       "<tr>\n",
       "  <th>Date:</th>             <td>Sun, 26 Nov 2017</td> <th>  Prob (F-statistic):</th> <td>1.38e-160</td>\n",
       "</tr>\n",
       "<tr>\n",
       "  <th>Time:</th>                 <td>16:01:17</td>     <th>  Log-Likelihood:    </th> <td> -1604.1</td> \n",
       "</tr>\n",
       "<tr>\n",
       "  <th>No. Observations:</th>      <td>  4008</td>      <th>  AIC:               </th> <td>   3212.</td> \n",
       "</tr>\n",
       "<tr>\n",
       "  <th>Df Residuals:</th>          <td>  4006</td>      <th>  BIC:               </th> <td>   3225.</td> \n",
       "</tr>\n",
       "<tr>\n",
       "  <th>Df Model:</th>              <td>     1</td>      <th>                     </th>     <td> </td>    \n",
       "</tr>\n",
       "<tr>\n",
       "  <th>Covariance Type:</th>      <td>nonrobust</td>    <th>                     </th>     <td> </td>    \n",
       "</tr>\n",
       "</table>\n",
       "<table class=\"simpletable\">\n",
       "<tr>\n",
       "      <td></td>        <th>coef</th>     <th>std err</th>      <th>t</th>      <th>P>|t|</th> <th>[95.0% Conf. Int.]</th> \n",
       "</tr>\n",
       "<tr>\n",
       "  <th>const</th>    <td>   -0.4815</td> <td>    0.084</td> <td>   -5.720</td> <td> 0.000</td> <td>   -0.647    -0.316</td>\n",
       "</tr>\n",
       "<tr>\n",
       "  <th>TotalEUI</th> <td>    0.3374</td> <td>    0.012</td> <td>   28.281</td> <td> 0.000</td> <td>    0.314     0.361</td>\n",
       "</tr>\n",
       "</table>\n",
       "<table class=\"simpletable\">\n",
       "<tr>\n",
       "  <th>Omnibus:</th>       <td>149.144</td> <th>  Durbin-Watson:     </th> <td>   1.356</td>\n",
       "</tr>\n",
       "<tr>\n",
       "  <th>Prob(Omnibus):</th> <td> 0.000</td>  <th>  Jarque-Bera (JB):  </th> <td> 165.686</td>\n",
       "</tr>\n",
       "<tr>\n",
       "  <th>Skew:</th>          <td>-0.481</td>  <th>  Prob(JB):          </th> <td>1.05e-36</td>\n",
       "</tr>\n",
       "<tr>\n",
       "  <th>Kurtosis:</th>      <td> 3.260</td>  <th>  Cond. No.          </th> <td>    106.</td>\n",
       "</tr>\n",
       "</table>"
      ],
      "text/plain": [
       "<class 'statsmodels.iolib.summary.Summary'>\n",
       "\"\"\"\n",
       "                            OLS Regression Results                            \n",
       "==============================================================================\n",
       "Dep. Variable:             UnitsTotal   R-squared:                       0.166\n",
       "Model:                            OLS   Adj. R-squared:                  0.166\n",
       "Method:                 Least Squares   F-statistic:                     799.8\n",
       "Date:                Sun, 26 Nov 2017   Prob (F-statistic):          1.38e-160\n",
       "Time:                        16:01:17   Log-Likelihood:                -1604.1\n",
       "No. Observations:                4008   AIC:                             3212.\n",
       "Df Residuals:                    4006   BIC:                             3225.\n",
       "Df Model:                           1                                         \n",
       "Covariance Type:            nonrobust                                         \n",
       "==============================================================================\n",
       "                 coef    std err          t      P>|t|      [95.0% Conf. Int.]\n",
       "------------------------------------------------------------------------------\n",
       "const         -0.4815      0.084     -5.720      0.000        -0.647    -0.316\n",
       "TotalEUI       0.3374      0.012     28.281      0.000         0.314     0.361\n",
       "==============================================================================\n",
       "Omnibus:                      149.144   Durbin-Watson:                   1.356\n",
       "Prob(Omnibus):                  0.000   Jarque-Bera (JB):              165.686\n",
       "Skew:                          -0.481   Prob(JB):                     1.05e-36\n",
       "Kurtosis:                       3.260   Cond. No.                         106.\n",
       "==============================================================================\n",
       "\n",
       "Warnings:\n",
       "[1] Standard Errors assume that the covariance matrix of the errors is correctly specified.\n",
       "\"\"\""
      ]
     },
     "execution_count": 36,
     "metadata": {},
     "output_type": "execute_result"
    }
   ],
   "source": [
    "linmodel2.summary()"
   ]
  },
  {
   "cell_type": "code",
   "execution_count": 37,
   "metadata": {},
   "outputs": [
    {
     "data": {
      "text/plain": [
       "<matplotlib.text.Text at 0x7f59e397d590>"
      ]
     },
     "execution_count": 37,
     "metadata": {},
     "output_type": "execute_result"
    },
    {
     "data": {
      "image/png": "[encoded data removed]",
      "text/plain": [
       "<matplotlib.figure.Figure at 0x7f59e3b55710>"
      ]
     },
     "metadata": {},
     "output_type": "display_data"
    }
   ],
   "source": [
    "plt.scatter(np.log10(bblnrgdataCut.TotalEUI), np.log10(bblnrgdataCut.UnitsTotal))\n",
    "plt.plot(np.log10(bblnrgdataCut.TotalEUI), linmodel2.predict(X2), '-', c='r')\n",
    "plt.xlabel(\"TotalEUI\")\n",
    "plt.ylabel(\"Number of Units\")\n",
    "plt.title(\"Log of Energy vs Units\")"
   ]
  },
  {
   "cell_type": "markdown",
   "metadata": {},
   "source": [
    "#### Caption: This line does not look like a good fit for the data. "
   ]
  },
  {
   "cell_type": "code",
   "execution_count": 38,
   "metadata": {},
   "outputs": [
    {
     "data": {
      "text/plain": [
       "(-2365.2048486113904, -1604.1077205358438)"
      ]
     },
     "execution_count": 38,
     "metadata": {},
     "output_type": "execute_result"
    }
   ],
   "source": [
    "linmodel.llf, linmodel2.llf"
   ]
  },
  {
   "cell_type": "code",
   "execution_count": 39,
   "metadata": {},
   "outputs": [
    {
     "name": "stdout",
     "output_type": "stream",
     "text": [
      "LR STATISTICS:  1522.19425615\n"
     ]
    }
   ],
   "source": [
    "print (\"LR STATISTICS: \", -2 * (linmodel.llf - linmodel2.llf))"
   ]
  },
  {
   "cell_type": "code",
   "execution_count": 40,
   "metadata": {},
   "outputs": [
    {
     "data": {
      "text/plain": [
       "(1522.1942561510932, nan, 0.0)"
      ]
     },
     "execution_count": 40,
     "metadata": {},
     "output_type": "execute_result"
    }
   ],
   "source": [
    "linmodel2.compare_lr_test(linmodel)"
   ]
  },
  {
   "cell_type": "markdown",
   "metadata": {},
   "source": [
    "chisq = $\\sum_i \\frac{(model(x_i) - data(x_i))^2 }{ error_i^2}$"
   ]
  },
  {
   "cell_type": "code",
   "execution_count": 41,
   "metadata": {
    "ExecuteTime": {
     "end_time": "2017-10-19T22:17:25.699044",
     "start_time": "2017-10-19T22:17:25.672033"
    }
   },
   "outputs": [],
   "source": [
    "errorsnrg = np.sqrt((bblnrgdataCut['Reported Property Floor Area (Building(s)) (ft\\xc2\\xb2)'])**2 +\\\n",
    "                (bblnrgdataCut['SiteEUI']**2))\n",
    "\n",
    "errorsunits = np.sqrt(bblnrgdataCut.UnitsTotal)"
   ]
  },
  {
   "cell_type": "code",
   "execution_count": 42,
   "metadata": {
    "scrolled": true
   },
   "outputs": [
    {
     "name": "stderr",
     "output_type": "stream",
     "text": [
      "/opt/rh/anaconda/root/envs/PUI2016_Python2/lib/python2.7/site-packages/ipykernel/__main__.py:4: SettingWithCopyWarning: \n",
      "A value is trying to be set on a copy of a slice from a DataFrame.\n",
      "Try using .loc[row_indexer,col_indexer] = value instead\n",
      "\n",
      "See the caveats in the documentation: http://pandas.pydata.org/pandas-docs/stable/indexing.html#indexing-view-versus-copy\n",
      "/opt/rh/anaconda/root/envs/PUI2016_Python2/lib/python2.7/site-packages/ipykernel/__main__.py:5: SettingWithCopyWarning: \n",
      "A value is trying to be set on a copy of a slice from a DataFrame.\n",
      "Try using .loc[row_indexer,col_indexer] = value instead\n",
      "\n",
      "See the caveats in the documentation: http://pandas.pydata.org/pandas-docs/stable/indexing.html#indexing-view-versus-copy\n"
     ]
    }
   ],
   "source": [
    "errorsInLogNrg = np.abs(errorsnrg / bblnrgdataCut.TotalEUI / np.log(10))\n",
    "errorsInLogUnits = np.abs(errorsunits / bblnrgdataCut.UnitsTotal / np.log(10))\n",
    "\n",
    "bblnrgdataCut['errorsnrg'] = errorsInLogNrg\n",
    "bblnrgdataCut['errorsunits'] = errorsInLogUnits"
   ]
  },
  {
   "cell_type": "markdown",
   "metadata": {},
   "source": [
    "Explanation of the errors: The errors had to be calculated with two variables, because we multiplied them to get the variable we are using here. "
   ]
  },
  {
   "cell_type": "code",
   "execution_count": 43,
   "metadata": {},
   "outputs": [
    {
     "data": {
      "text/html": [
       "<div>\n",
       "<table border=\"1\" class=\"dataframe\">\n",
       "  <thead>\n",
       "    <tr style=\"text-align: right;\">\n",
       "      <th></th>\n",
       "      <th>const</th>\n",
       "      <th>UnitsTotal</th>\n",
       "    </tr>\n",
       "  </thead>\n",
       "  <tbody>\n",
       "    <tr>\n",
       "      <th>2</th>\n",
       "      <td>1.0</td>\n",
       "      <td>1.748188</td>\n",
       "    </tr>\n",
       "    <tr>\n",
       "      <th>16</th>\n",
       "      <td>1.0</td>\n",
       "      <td>1.380211</td>\n",
       "    </tr>\n",
       "    <tr>\n",
       "      <th>18</th>\n",
       "      <td>1.0</td>\n",
       "      <td>1.380211</td>\n",
       "    </tr>\n",
       "    <tr>\n",
       "      <th>19</th>\n",
       "      <td>1.0</td>\n",
       "      <td>1.792392</td>\n",
       "    </tr>\n",
       "    <tr>\n",
       "      <th>20</th>\n",
       "      <td>1.0</td>\n",
       "      <td>1.929419</td>\n",
       "    </tr>\n",
       "  </tbody>\n",
       "</table>\n",
       "</div>"
      ],
      "text/plain": [
       "    const  UnitsTotal\n",
       "2     1.0    1.748188\n",
       "16    1.0    1.380211\n",
       "18    1.0    1.380211\n",
       "19    1.0    1.792392\n",
       "20    1.0    1.929419"
      ]
     },
     "execution_count": 43,
     "metadata": {},
     "output_type": "execute_result"
    }
   ],
   "source": [
    "X.head()"
   ]
  },
  {
   "cell_type": "code",
   "execution_count": 44,
   "metadata": {},
   "outputs": [
    {
     "data": {
      "text/plain": [
       "450338.56286477088"
      ]
     },
     "execution_count": 44,
     "metadata": {},
     "output_type": "execute_result"
    }
   ],
   "source": [
    "y1 = X.UnitsTotal\n",
    "y1_fit = linmodel2.params[0] + linmodel2.params[1] * X2.TotalEUI\n",
    "\n",
    "chisq = (((y1 - y1_fit)**2) / errorsInLogUnits**2).sum()\n",
    "chisq"
   ]
  },
  {
   "cell_type": "code",
   "execution_count": 45,
   "metadata": {},
   "outputs": [
    {
     "data": {
      "text/plain": [
       "3506018253907.0713"
      ]
     },
     "execution_count": 45,
     "metadata": {},
     "output_type": "execute_result"
    }
   ],
   "source": [
    "y2 = X2.TotalEUI\n",
    "y2_fit = linmodel.params[0] + linmodel.params[1] * X.UnitsTotal\n",
    "\n",
    "chisq2 = (((y2 - y2_fit)**2) / errorsInLogNrg**2).sum()\n",
    "chisq2"
   ]
  },
  {
   "cell_type": "markdown",
   "metadata": {},
   "source": [
    "The numbers are very, very big and thus neither model is probably very good. \n",
    "\n",
    "Can you compare these models with the likelihood ratio test? No, because they are not nested. "
   ]
  },
  {
   "cell_type": "markdown",
   "metadata": {},
   "source": [
    "# Polynomials"
   ]
  },
  {
   "cell_type": "code",
   "execution_count": 46,
   "metadata": {},
   "outputs": [
    {
     "data": {
      "text/html": [
       "<div>\n",
       "<table border=\"1\" class=\"dataframe\">\n",
       "  <thead>\n",
       "    <tr style=\"text-align: right;\">\n",
       "      <th></th>\n",
       "      <th>const</th>\n",
       "      <th>TotalEUI</th>\n",
       "    </tr>\n",
       "  </thead>\n",
       "  <tbody>\n",
       "    <tr>\n",
       "      <th>2</th>\n",
       "      <td>1.0</td>\n",
       "      <td>7.616811</td>\n",
       "    </tr>\n",
       "    <tr>\n",
       "      <th>16</th>\n",
       "      <td>1.0</td>\n",
       "      <td>7.629287</td>\n",
       "    </tr>\n",
       "    <tr>\n",
       "      <th>18</th>\n",
       "      <td>1.0</td>\n",
       "      <td>7.286094</td>\n",
       "    </tr>\n",
       "    <tr>\n",
       "      <th>19</th>\n",
       "      <td>1.0</td>\n",
       "      <td>6.950549</td>\n",
       "    </tr>\n",
       "    <tr>\n",
       "      <th>20</th>\n",
       "      <td>1.0</td>\n",
       "      <td>6.811909</td>\n",
       "    </tr>\n",
       "  </tbody>\n",
       "</table>\n",
       "</div>"
      ],
      "text/plain": [
       "    const  TotalEUI\n",
       "2     1.0  7.616811\n",
       "16    1.0  7.629287\n",
       "18    1.0  7.286094\n",
       "19    1.0  6.950549\n",
       "20    1.0  6.811909"
      ]
     },
     "execution_count": 46,
     "metadata": {},
     "output_type": "execute_result"
    }
   ],
   "source": [
    "X2.head()"
   ]
  },
  {
   "cell_type": "code",
   "execution_count": 47,
   "metadata": {},
   "outputs": [
    {
     "data": {
      "text/html": [
       "<div>\n",
       "<table border=\"1\" class=\"dataframe\">\n",
       "  <thead>\n",
       "    <tr style=\"text-align: right;\">\n",
       "      <th></th>\n",
       "      <th>UnitsTotal</th>\n",
       "      <th>TotalEUI</th>\n",
       "    </tr>\n",
       "  </thead>\n",
       "  <tbody>\n",
       "    <tr>\n",
       "      <th>3834</th>\n",
       "      <td>1.431364</td>\n",
       "      <td>3.727866</td>\n",
       "    </tr>\n",
       "    <tr>\n",
       "      <th>3840</th>\n",
       "      <td>1.397940</td>\n",
       "      <td>4.650319</td>\n",
       "    </tr>\n",
       "    <tr>\n",
       "      <th>5794</th>\n",
       "      <td>1.568202</td>\n",
       "      <td>5.021189</td>\n",
       "    </tr>\n",
       "    <tr>\n",
       "      <th>5748</th>\n",
       "      <td>1.612784</td>\n",
       "      <td>5.099424</td>\n",
       "    </tr>\n",
       "    <tr>\n",
       "      <th>5802</th>\n",
       "      <td>1.623249</td>\n",
       "      <td>5.132516</td>\n",
       "    </tr>\n",
       "  </tbody>\n",
       "</table>\n",
       "</div>"
      ],
      "text/plain": [
       "      UnitsTotal  TotalEUI\n",
       "3834    1.431364  3.727866\n",
       "3840    1.397940  4.650319\n",
       "5794    1.568202  5.021189\n",
       "5748    1.612784  5.099424\n",
       "5802    1.623249  5.132516"
      ]
     },
     "execution_count": 47,
     "metadata": {},
     "output_type": "execute_result"
    }
   ],
   "source": [
    "dfLogs = pd.concat([X['UnitsTotal'], X2['TotalEUI']], axis=1)\n",
    "dfLogs = dfLogs.sort_values('TotalEUI')\n",
    "dfLogs.head()"
   ]
  },
  {
   "cell_type": "code",
   "execution_count": 48,
   "metadata": {},
   "outputs": [
    {
     "data": {
      "text/html": [
       "<table class=\"simpletable\">\n",
       "<caption>OLS Regression Results</caption>\n",
       "<tr>\n",
       "  <th>Dep. Variable:</th>    <td>dfLogs.UnitsTotal</td> <th>  R-squared:         </th> <td>   0.186</td> \n",
       "</tr>\n",
       "<tr>\n",
       "  <th>Model:</th>                   <td>OLS</td>        <th>  Adj. R-squared:    </th> <td>   0.185</td> \n",
       "</tr>\n",
       "<tr>\n",
       "  <th>Method:</th>             <td>Least Squares</td>   <th>  F-statistic:       </th> <td>   456.5</td> \n",
       "</tr>\n",
       "<tr>\n",
       "  <th>Date:</th>             <td>Sun, 26 Nov 2017</td>  <th>  Prob (F-statistic):</th> <td>2.50e-179</td>\n",
       "</tr>\n",
       "<tr>\n",
       "  <th>Time:</th>                 <td>16:01:18</td>      <th>  Log-Likelihood:    </th> <td> -1557.3</td> \n",
       "</tr>\n",
       "<tr>\n",
       "  <th>No. Observations:</th>      <td>  4008</td>       <th>  AIC:               </th> <td>   3121.</td> \n",
       "</tr>\n",
       "<tr>\n",
       "  <th>Df Residuals:</th>          <td>  4005</td>       <th>  BIC:               </th> <td>   3140.</td> \n",
       "</tr>\n",
       "<tr>\n",
       "  <th>Df Model:</th>              <td>     2</td>       <th>                     </th>     <td> </td>    \n",
       "</tr>\n",
       "<tr>\n",
       "  <th>Covariance Type:</th>      <td>nonrobust</td>     <th>                     </th>     <td> </td>    \n",
       "</tr>\n",
       "</table>\n",
       "<table class=\"simpletable\">\n",
       "<tr>\n",
       "             <td></td>                <th>coef</th>     <th>std err</th>      <th>t</th>      <th>P>|t|</th> <th>[95.0% Conf. Int.]</th> \n",
       "</tr>\n",
       "<tr>\n",
       "  <th>Intercept</th>               <td>   -4.4190</td> <td>    0.413</td> <td>  -10.690</td> <td> 0.000</td> <td>   -5.229    -3.608</td>\n",
       "</tr>\n",
       "<tr>\n",
       "  <th>I(dfLogs.TotalEUI ** 2)</th> <td>   -0.0711</td> <td>    0.007</td> <td>   -9.724</td> <td> 0.000</td> <td>   -0.085    -0.057</td>\n",
       "</tr>\n",
       "<tr>\n",
       "  <th>dfLogs.TotalEUI</th>         <td>    1.3999</td> <td>    0.110</td> <td>   12.738</td> <td> 0.000</td> <td>    1.184     1.615</td>\n",
       "</tr>\n",
       "</table>\n",
       "<table class=\"simpletable\">\n",
       "<tr>\n",
       "  <th>Omnibus:</th>       <td>119.956</td> <th>  Durbin-Watson:     </th> <td>   1.689</td>\n",
       "</tr>\n",
       "<tr>\n",
       "  <th>Prob(Omnibus):</th> <td> 0.000</td>  <th>  Jarque-Bera (JB):  </th> <td> 134.785</td>\n",
       "</tr>\n",
       "<tr>\n",
       "  <th>Skew:</th>          <td>-0.401</td>  <th>  Prob(JB):          </th> <td>5.39e-30</td>\n",
       "</tr>\n",
       "<tr>\n",
       "  <th>Kurtosis:</th>      <td> 3.404</td>  <th>  Cond. No.          </th> <td>3.85e+03</td>\n",
       "</tr>\n",
       "</table>"
      ],
      "text/plain": [
       "<class 'statsmodels.iolib.summary.Summary'>\n",
       "\"\"\"\n",
       "                            OLS Regression Results                            \n",
       "==============================================================================\n",
       "Dep. Variable:      dfLogs.UnitsTotal   R-squared:                       0.186\n",
       "Model:                            OLS   Adj. R-squared:                  0.185\n",
       "Method:                 Least Squares   F-statistic:                     456.5\n",
       "Date:                Sun, 26 Nov 2017   Prob (F-statistic):          2.50e-179\n",
       "Time:                        16:01:18   Log-Likelihood:                -1557.3\n",
       "No. Observations:                4008   AIC:                             3121.\n",
       "Df Residuals:                    4005   BIC:                             3140.\n",
       "Df Model:                           2                                         \n",
       "Covariance Type:            nonrobust                                         \n",
       "===========================================================================================\n",
       "                              coef    std err          t      P>|t|      [95.0% Conf. Int.]\n",
       "-------------------------------------------------------------------------------------------\n",
       "Intercept                  -4.4190      0.413    -10.690      0.000        -5.229    -3.608\n",
       "I(dfLogs.TotalEUI ** 2)    -0.0711      0.007     -9.724      0.000        -0.085    -0.057\n",
       "dfLogs.TotalEUI             1.3999      0.110     12.738      0.000         1.184     1.615\n",
       "==============================================================================\n",
       "Omnibus:                      119.956   Durbin-Watson:                   1.689\n",
       "Prob(Omnibus):                  0.000   Jarque-Bera (JB):              134.785\n",
       "Skew:                          -0.401   Prob(JB):                     5.39e-30\n",
       "Kurtosis:                       3.404   Cond. No.                     3.85e+03\n",
       "==============================================================================\n",
       "\n",
       "Warnings:\n",
       "[1] Standard Errors assume that the covariance matrix of the errors is correctly specified.\n",
       "[2] The condition number is large, 3.85e+03. This might indicate that there are\n",
       "strong multicollinearity or other numerical problems.\n",
       "\"\"\""
      ]
     },
     "execution_count": 48,
     "metadata": {},
     "output_type": "execute_result"
    }
   ],
   "source": [
    "poly = smf.ols(formula = 'dfLogs.UnitsTotal ~ I(dfLogs.TotalEUI**2) + dfLogs.TotalEUI', data=dfLogs)\n",
    "model2 = poly.fit()\n",
    "model2.summary()"
   ]
  },
  {
   "cell_type": "code",
   "execution_count": 49,
   "metadata": {},
   "outputs": [
    {
     "data": {
      "text/html": [
       "<div>\n",
       "<table border=\"1\" class=\"dataframe\">\n",
       "  <thead>\n",
       "    <tr style=\"text-align: right;\">\n",
       "      <th></th>\n",
       "      <th>UnitsTotal</th>\n",
       "      <th>TotalEUI</th>\n",
       "    </tr>\n",
       "  </thead>\n",
       "  <tbody>\n",
       "    <tr>\n",
       "      <th>3834</th>\n",
       "      <td>1.431364</td>\n",
       "      <td>3.727866</td>\n",
       "    </tr>\n",
       "    <tr>\n",
       "      <th>3840</th>\n",
       "      <td>1.397940</td>\n",
       "      <td>4.650319</td>\n",
       "    </tr>\n",
       "    <tr>\n",
       "      <th>5794</th>\n",
       "      <td>1.568202</td>\n",
       "      <td>5.021189</td>\n",
       "    </tr>\n",
       "    <tr>\n",
       "      <th>5748</th>\n",
       "      <td>1.612784</td>\n",
       "      <td>5.099424</td>\n",
       "    </tr>\n",
       "    <tr>\n",
       "      <th>5802</th>\n",
       "      <td>1.623249</td>\n",
       "      <td>5.132516</td>\n",
       "    </tr>\n",
       "  </tbody>\n",
       "</table>\n",
       "</div>"
      ],
      "text/plain": [
       "      UnitsTotal  TotalEUI\n",
       "3834    1.431364  3.727866\n",
       "3840    1.397940  4.650319\n",
       "5794    1.568202  5.021189\n",
       "5748    1.612784  5.099424\n",
       "5802    1.623249  5.132516"
      ]
     },
     "execution_count": 49,
     "metadata": {},
     "output_type": "execute_result"
    }
   ],
   "source": [
    "dfLogs.head()"
   ]
  },
  {
   "cell_type": "code",
   "execution_count": 50,
   "metadata": {},
   "outputs": [
    {
     "data": {
      "text/plain": [
       "-1557.346201455654"
      ]
     },
     "execution_count": 50,
     "metadata": {},
     "output_type": "execute_result"
    }
   ],
   "source": [
    "model2.llf"
   ]
  },
  {
   "cell_type": "code",
   "execution_count": 51,
   "metadata": {},
   "outputs": [
    {
     "data": {
      "text/plain": [
       "<matplotlib.text.Text at 0x7f5a4843e3d0>"
      ]
     },
     "execution_count": 51,
     "metadata": {},
     "output_type": "execute_result"
    },
    {
     "data": {
      "image/png": "[encoded data removed]",
      "text/plain": [
       "<matplotlib.figure.Figure at 0x7f59e3b23ed0>"
      ]
     },
     "metadata": {},
     "output_type": "display_data"
    }
   ],
   "source": [
    "plt.scatter(np.log10(bblnrgdataCut.TotalEUI), np.log10(bblnrgdataCut.UnitsTotal))\n",
    "plt.plot(np.log10(bblnrgdataCut.TotalEUI), linmodel2.predict(X2), '-', c='r')\n",
    "plt.plot(dfLogs.TotalEUI, model2.predict(dfLogs), color=\"green\")\n",
    "plt.xlabel(\"Number of Units\")\n",
    "plt.ylabel(\"Total EUI\")\n",
    "plt.title(\"Polynomial Fit\")\n",
    "plt.title(\"Fitting Polynomial\")"
   ]
  },
  {
   "cell_type": "markdown",
   "metadata": {},
   "source": [
    "#### The polynomial doesn't look like a great fit either. The model is not a great model. "
   ]
  },
  {
   "cell_type": "markdown",
   "metadata": {},
   "source": [
    "## ASH - Score 100. Extra Credit is Missing"
   ]
  },
  {
   "cell_type": "code",
   "execution_count": null,
   "metadata": {},
   "outputs": [],
   "source": []
  }
 ],
 "metadata": {
  "kernelspec": {
   "display_name": "PUI2016_Python2",
   "language": "python",
   "name": "pui2016_python2"
  },
  "language_info": {
   "codemirror_mode": {
    "name": "ipython",
    "version": 2
   },
   "file_extension": ".py",
   "mimetype": "text/x-python",
   "name": "python",
   "nbconvert_exporter": "python",
   "pygments_lexer": "ipython2",
   "version": "2.7.12"
  },
  "latex_envs": {
   "LaTeX_envs_menu_present": true,
   "bibliofile": "biblio.bib",
   "cite_by": "apalike",
   "current_citInitial": 1,
   "eqLabelWithNumbers": true,
   "eqNumInitial": 1,
   "hotkeys": {
    "equation": "Ctrl-E",
    "itemize": "Ctrl-I"
   },
   "labels_anchors": false,
   "latex_user_defs": false,
   "report_style_numbering": false,
   "user_envs_cfg": false
  },
  "toc": {
   "colors": {
    "hover_highlight": "#DAA520",
    "running_highlight": "#FF0000",
    "selected_highlight": "#FFD700"
   },
   "moveMenuLeft": true,
   "nav_menu": {
    "height": "116px",
    "width": "252px"
   },
   "navigate_menu": true,
   "number_sections": false,
   "sideBar": true,
   "threshold": 4,
   "toc_cell": false,
   "toc_position": {
    "height": "323px",
    "left": "0px",
    "right": "617.333px",
    "top": "130px",
    "width": "212px"
   },
   "toc_section_display": "block",
   "toc_window_display": true
  }
 },
 "nbformat": 4,
 "nbformat_minor": 1
}
